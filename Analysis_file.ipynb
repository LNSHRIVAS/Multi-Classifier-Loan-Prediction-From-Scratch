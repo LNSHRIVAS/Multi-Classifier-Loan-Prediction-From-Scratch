{
  "nbformat": 4,
  "nbformat_minor": 0,
  "metadata": {
    "colab": {
      "provenance": [],
      "mount_file_id": "1920dY9972_gZlZy2iFOwNmdextmtIT6I",
      "authorship_tag": "ABX9TyPVox7SZngvqkpRQFn5Mmtk",
      "include_colab_link": true
    },
    "kernelspec": {
      "name": "python3",
      "display_name": "Python 3"
    },
    "language_info": {
      "name": "python"
    }
  },
  "cells": [
    {
      "cell_type": "markdown",
      "metadata": {
        "id": "view-in-github",
        "colab_type": "text"
      },
      "source": [
        "<a href=\"https://colab.research.google.com/github/LNSHRIVAS/Multi-Classifier-Loan-Prediction-From-Scratch/blob/main/Analysis_file.ipynb\" target=\"_parent\"><img src=\"https://colab.research.google.com/assets/colab-badge.svg\" alt=\"Open In Colab\"/></a>"
      ]
    },
    {
      "cell_type": "markdown",
      "source": [
        "# Project-1 MSML 603 UID 121334466: Developing Four Core Binary Classifiers from Scratch for Loan Approval Prediction and Assessing Dimensionality Reduction with PCA\n",
        "\n",
        "**Project Summary**  \n",
        "This project focuses on evaluating the performance of four binary classifiers on real-world loan approval data and analyzing how Principal Component Analysis (PCA) affects their accuracy. The classifiers include:\n",
        "\n",
        "- **Decision Tree**  \n",
        "- **k-Nearest Neighbors (kNN)**  \n",
        "- **Linear Discriminant Analysis (LDA)**  \n",
        "- **Support Vector Machine (SVM)**  \n",
        "\n",
        "Each classifier is applied to a dataset of 27 features, with a binary label indicating loan approval (0 for approved, 1 for denied). We examine the performance of these models by measuring Type 1 (false positive) and Type 2 (false negative) error rates. All classifiers are implemented from scratch to enhance understanding and control over the algorithms.\n",
        "\n",
        "**Objectives**  \n",
        "**Binary Classification Performance**  \n",
        "- Evaluate each classifier's effectiveness using the original 27 features.  \n",
        "- Measure Type 1 and Type 2 error rates on the test data.  \n",
        "\n",
        "**Dimensionality Reduction with PCA**  \n",
        "- Assess the impact of feature reduction on kNN and SVM classifiers.  \n",
        "- Experiment with different numbers of principal components (K = 5, 10, 15).  \n",
        "- Compare performance metrics between classifiers trained on original vs. PCA-reduced features.  \n",
        "\n",
        "**Data Overview**  \n",
        "- **Training Data:** 900 samples (450 approved, 450 denied)  \n",
        "- **Testing Data:** 400 samples (200 approved, 200 denied)  \n",
        "- **Features:** 27 attributes (e.g., Age, Annual Income)  \n",
        "\n",
        "**Project Breakdown**  \n",
        "**Classifiers with Original Features**  \n",
        "- **LDA:** Use projections onto a direction vector (w) for classification.  \n",
        "- **Decision Tree:** Build using criteria like Gini impurity or information gain.  \n",
        "- **kNN:** Evaluate with (k = 1, 3, 5, and 10).  \n",
        "- **SVM:** Apply soft-margin SVM to manage non-separable data.  \n",
        "\n",
        "**Classifiers with PCA-Reduced Features**  \n",
        "- Reduce the feature set using PCA and apply kNN and SVM with (K = 5, 10, and 15) components.  \n",
        "- Compare the error rates to those from classifiers trained on original features.  \n",
        "\n",
        "**Evaluation Metrics**  \n",
        "- **Type 1 Error Rate:** Percentage of approved loans misclassified as denied.  \n",
        "- **Type 2 Error Rate:** Percentage of denied loans misclassified as approved.  \n",
        "\n",
        "**Analysis Focus**  \n",
        "- How error rates differ among classifiers.  \n",
        "- PCA's effect on classifier performance and optimal component selection.  \n",
        "\n",
        "This analysis helps demonstrate the trade-offs and benefits of dimensionality reduction for binary classification, specifically for loan approval prediction.\n"
      ],
      "metadata": {
        "id": "_lcaLMCtQebG"
      }
    },
    {
      "cell_type": "markdown",
      "source": [
        "# Project Structure and Implementation\n",
        "\n",
        "## Overview\n",
        "This project is structured to facilitate the implementation and evaluation of four binary classifiers for loan approval prediction. The main computational work is encapsulated within a Jupyter Notebook, while the classifier implementations and supporting utilities are organized in separate Python files for modularity and ease of maintenance.\n",
        "\n",
        "## Project Files\n",
        "\n",
        "### Main Notebook\n",
        "- **`Analysis_file.ipynb`**: This is the primary Jupyter Notebook where the project is executed. It imports various classifier modules from the source files and orchestrates the workflow for data loading, preprocessing, classifier training, and evaluation.\n",
        "\n",
        "### Source Files\n",
        "All source files are organized in the `src` directory, containing the implementations of different classifiers and utility functions:\n",
        "\n",
        "1. **`BaseClassifier.py`**: This file defines the base class for all classifiers, providing common functionalities that can be inherited by specific classifiers.\n",
        "\n",
        "2. **`DataLoader.py`**: Contains methods to load datasets for training and testing, ensuring that data is correctly structured for processing.\n",
        "\n",
        "3. **`DataPreprocessing.py`**: Implements preprocessing techniques such as normalization and encoding to prepare the raw data for classifier input.\n",
        "\n",
        "4. **`DecisionTreeClassifier.py`**: Implements the Decision Tree classifier, including methods for training and making predictions.\n",
        "\n",
        "5. **`ErrorRateCalculator.py`**: Provides functionality to calculate Type 1 and Type 2 error rates, helping assess classifier performance.\n",
        "\n",
        "6. **`KNeighbourClassifier.py`**: Implements the k-Nearest Neighbors classifier, including methods for fitting the model and making predictions based on distances to training samples.\n",
        "\n",
        "7. **`LinearDiscriminantAnalysisClassifier.py`**: Contains the implementation of the Linear Discriminant Analysis classifier, with methods for training and prediction based on linear projections.\n",
        "\n",
        "8. **`PrincipalComponentAnalysis.py`**: Implements PCA for dimensionality reduction, providing methods to transform the feature space before classification.\n",
        "\n",
        "9. **`SupportVectorMachineClassifier.py`**: Implements the Support Vector Machine classifier, including methods for handling non-separable data and making predictions.\n",
        "\n",
        "10. **`TestDataLoader.py`**: An optional testing class that uses unit tests to verify the integrity of the data before running the main classifiers. This ensures that any potential issues are identified early in the process.\n",
        "\n",
        "11. **`common.py`**: Contains all necessary imports and shared utilities required to run the classifiers, promoting code reusability and simplifying dependencies.\n",
        "\n",
        "## Modular Design\n",
        "The modular design of this project allows for:\n",
        "- **Ease of Testing**: Each classifier can be tested independently.\n",
        "- **Code Reusability**: Common functionalities and imports are centralized, reducing redundancy.\n",
        "- **Clear Organization**: Logical grouping of related functionalities makes it easier to navigate and update the project.\n",
        "\n",
        "This structured approach ensures that the project remains scalable and maintainable while allowing for thorough experimentation with different classifiers and preprocessing techniques.\n"
      ],
      "metadata": {
        "id": "h4x_YXmcW0kB"
      }
    },
    {
      "cell_type": "markdown",
      "source": [
        " In this project, I used the logging library instead of the print function to provide structured and configurable output. Logging allows for different severity levels and can be easily redirected to files or other outputs. This approach enhances debugging and monitoring while maintaining cleaner code."
      ],
      "metadata": {
        "id": "8MVp7QI2eaNh"
      }
    },
    {
      "cell_type": "code",
      "source": [
        "import sys\n",
        "sys.path.append('/Submission/src')  #Please provide the path to the source (src) folder here."
      ],
      "metadata": {
        "id": "tF2mEakzejEa"
      },
      "execution_count": 1,
      "outputs": []
    },
    {
      "cell_type": "code",
      "execution_count": 2,
      "metadata": {
        "id": "8vPllQDkfAaH",
        "colab": {
          "base_uri": "https://localhost:8080/"
        },
        "outputId": "e42913ce-1669-41e1-d91d-b287f03cc47d"
      },
      "outputs": [
        {
          "output_type": "stream",
          "name": "stderr",
          "text": [
            "INFO:root:info\n"
          ]
        },
        {
          "output_type": "stream",
          "name": "stdout",
          "text": [
            "info\n"
          ]
        }
      ],
      "source": [
        "from common import * # This class contains all the necessary imports required to run this notebook."
      ]
    },
    {
      "cell_type": "code",
      "source": [
        "# Importing all the various Classifier classes.\n",
        "\n",
        "from DataLoader import DataLoader\n",
        "from DataPreprocessing import DataPreprocessing\n",
        "from TestDataLoader import TestDataLoader\n",
        "from LinearDiscriminantAnalysisClassifier import LinearDiscriminantAnalysisClassifier\n",
        "from DecisionTreeClassifier import DecisionTreeClassifier\n",
        "from KNeighbourClassifier import KNeighbourClassifier\n",
        "from SupportVectorMachineClassifier import SupportVectorMachineClassifier\n",
        "from ErrorRateCalculator import ErrorRateCalculator\n",
        "from PrincipleComponentAnalysis import PrincipleComponentAnalysis"
      ],
      "metadata": {
        "id": "RrEdcJE3fOOa"
      },
      "execution_count": 3,
      "outputs": []
    },
    {
      "cell_type": "code",
      "source": [
        "training_data = '/Submission/data/TrainingData.csv' #Pass the path to training data\n",
        "testing_data = '/Submission/data/TestingData.csv'   #Pass the path to testing data"
      ],
      "metadata": {
        "id": "TQx9l__biPmK"
      },
      "execution_count": 4,
      "outputs": []
    },
    {
      "cell_type": "code",
      "source": [
        "data_loader = DataLoader(training_data, testing_data, 'LoanApproved')  #Loading the data\n",
        "data_loader.verify_data_path() # Verifying the data"
      ],
      "metadata": {
        "colab": {
          "base_uri": "https://localhost:8080/"
        },
        "id": "Nhnyk8gGiXOQ",
        "outputId": "e274a1f5-5ecb-4113-d784-5655efa0c71a"
      },
      "execution_count": 5,
      "outputs": [
        {
          "output_type": "stream",
          "name": "stderr",
          "text": [
            "INFO:root:File is available: /content/drive/MyDrive/LoanData/TrainingData.csv\n"
          ]
        },
        {
          "output_type": "stream",
          "name": "stdout",
          "text": [
            "File is available: /content/drive/MyDrive/LoanData/TrainingData.csv\n"
          ]
        },
        {
          "output_type": "stream",
          "name": "stderr",
          "text": [
            "INFO:root:File is available: /content/drive/MyDrive/LoanData/TestingData.csv\n"
          ]
        },
        {
          "output_type": "stream",
          "name": "stdout",
          "text": [
            "File is available: /content/drive/MyDrive/LoanData/TestingData.csv\n"
          ]
        }
      ]
    },
    {
      "cell_type": "code",
      "source": [
        "#Loading the data and applying processing on it.\n",
        "\n",
        "train_data, train_labels, feature_names = data_loader.load_training_data()\n",
        "test_data, test_labels = data_loader.load_testing_data()\n",
        "\n",
        "train_processed_data = DataPreprocessing(train_data)\n",
        "train_normalized_data, train_standardized_data = train_processed_data.transform_data()\n",
        "\n",
        "test_processed_data = DataPreprocessing(test_data)\n",
        "test_normalized_data, test_standardized_data = test_processed_data.transform_data()"
      ],
      "metadata": {
        "colab": {
          "base_uri": "https://localhost:8080/"
        },
        "id": "4mKmDrVRkL3X",
        "outputId": "4c5db1f9-c8fe-40e8-ff5a-25fca54ffbae"
      },
      "execution_count": 6,
      "outputs": [
        {
          "output_type": "stream",
          "name": "stderr",
          "text": [
            "INFO:root:Loading training data...\n"
          ]
        },
        {
          "output_type": "stream",
          "name": "stdout",
          "text": [
            "Loading training data...\n"
          ]
        },
        {
          "output_type": "stream",
          "name": "stderr",
          "text": [
            "INFO:root:Training data loaded successfully.\n"
          ]
        },
        {
          "output_type": "stream",
          "name": "stdout",
          "text": [
            "Training data loaded successfully.\n"
          ]
        },
        {
          "output_type": "stream",
          "name": "stderr",
          "text": [
            "INFO:root:Loading testing data...\n"
          ]
        },
        {
          "output_type": "stream",
          "name": "stdout",
          "text": [
            "Loading testing data...\n"
          ]
        },
        {
          "output_type": "stream",
          "name": "stderr",
          "text": [
            "INFO:root:Testing data loaded successfully.\n"
          ]
        },
        {
          "output_type": "stream",
          "name": "stdout",
          "text": [
            "Testing data loaded successfully.\n"
          ]
        },
        {
          "output_type": "stream",
          "name": "stderr",
          "text": [
            "INFO:root:Standardized column: {column} (mean: {mean}, std: {std})\n"
          ]
        },
        {
          "output_type": "stream",
          "name": "stdout",
          "text": [
            "Standardized column: {column} (mean: {mean}, std: {std})\n"
          ]
        },
        {
          "output_type": "stream",
          "name": "stderr",
          "text": [
            "INFO:root:Normalized column: {column} (min: {min_value}, max: {max_value})\n"
          ]
        },
        {
          "output_type": "stream",
          "name": "stdout",
          "text": [
            "Normalized column: {column} (min: {min_value}, max: {max_value})\n"
          ]
        },
        {
          "output_type": "stream",
          "name": "stderr",
          "text": [
            "INFO:root:Standardized column: {column} (mean: {mean}, std: {std})\n"
          ]
        },
        {
          "output_type": "stream",
          "name": "stdout",
          "text": [
            "Standardized column: {column} (mean: {mean}, std: {std})\n"
          ]
        },
        {
          "output_type": "stream",
          "name": "stderr",
          "text": [
            "INFO:root:Normalized column: {column} (min: {min_value}, max: {max_value})\n"
          ]
        },
        {
          "output_type": "stream",
          "name": "stdout",
          "text": [
            "Normalized column: {column} (min: {min_value}, max: {max_value})\n"
          ]
        }
      ]
    },
    {
      "cell_type": "code",
      "source": [
        "error = ErrorRateCalculator() # This class I have created to calculate the error type 1 and type 2"
      ],
      "metadata": {
        "id": "MQyYf6mphrC9"
      },
      "execution_count": 7,
      "outputs": []
    },
    {
      "cell_type": "markdown",
      "source": [
        "# Linear Descriminanat Analysis"
      ],
      "metadata": {
        "id": "NN7qAKObJ6OC"
      }
    },
    {
      "cell_type": "code",
      "source": [
        "#Initializing the LDA and training\n",
        "\n",
        "lda_classifier = LinearDiscriminantAnalysisClassifier()\n",
        "lda_classifier.train(train_normalized_data, train_labels)"
      ],
      "metadata": {
        "colab": {
          "base_uri": "https://localhost:8080/"
        },
        "id": "adIlzq-dkd7n",
        "outputId": "5247e0d3-d388-460b-a452-13c2400a3e11"
      },
      "execution_count": 8,
      "outputs": [
        {
          "output_type": "stream",
          "name": "stderr",
          "text": [
            "INFO:root:Training LDA is successfully completed\n"
          ]
        },
        {
          "output_type": "stream",
          "name": "stdout",
          "text": [
            "Training LDA is successfully completed\n"
          ]
        },
        {
          "output_type": "stream",
          "name": "stderr",
          "text": [
            "INFO:root:weight: [ 0.20548358  0.1739984  -0.35003794 -0.09978069 -0.19891839  0.14948629\n",
            "  0.06249159 -0.14193172 -0.00747803  0.00277889 -0.01637039  0.05331457\n",
            " -0.26763992 -0.08557263  0.07468275  0.23179282 -0.03311524 -0.10299414\n",
            "  0.0129577  -0.04917666  1.08876505  0.04608559  0.06010527  0.47057916\n",
            " -0.90588139 -0.04664532 -0.27219406]\n"
          ]
        },
        {
          "output_type": "stream",
          "name": "stdout",
          "text": [
            "weight: [ 0.20548358  0.1739984  -0.35003794 -0.09978069 -0.19891839  0.14948629\n",
            "  0.06249159 -0.14193172 -0.00747803  0.00277889 -0.01637039  0.05331457\n",
            " -0.26763992 -0.08557263  0.07468275  0.23179282 -0.03311524 -0.10299414\n",
            "  0.0129577  -0.04917666  1.08876505  0.04608559  0.06010527  0.47057916\n",
            " -0.90588139 -0.04664532 -0.27219406]\n"
          ]
        },
        {
          "output_type": "stream",
          "name": "stderr",
          "text": [
            "INFO:root:bias: 1.339733760941119e-16\n"
          ]
        },
        {
          "output_type": "stream",
          "name": "stdout",
          "text": [
            "bias: 1.339733760941119e-16\n"
          ]
        },
        {
          "output_type": "stream",
          "name": "stderr",
          "text": [
            "INFO:root:threshold: 0.0\n"
          ]
        },
        {
          "output_type": "stream",
          "name": "stdout",
          "text": [
            "threshold: 0.0\n"
          ]
        }
      ]
    },
    {
      "cell_type": "code",
      "source": [
        "#Plotting the values of type 1 and type 2 error\n",
        "\n",
        "lda_classifier.plot_error_rate(test_normalized_data, test_labels)"
      ],
      "metadata": {
        "colab": {
          "base_uri": "https://localhost:8080/",
          "height": 564
        },
        "id": "R1aU_5kVkjvu",
        "outputId": "4aad3649-ad8f-446e-aaff-4d3a34fd058d"
      },
      "execution_count": 9,
      "outputs": [
        {
          "output_type": "display_data",
          "data": {
            "text/plain": [
              "<Figure size 1000x600 with 1 Axes>"
            ],
            "image/png": "[encoded data removed]"
          },
          "metadata": {}
        }
      ]
    },
    {
      "cell_type": "code",
      "source": [
        "#find the best threshold value between -1 and 1 as the region is visible from the graph\n",
        "\n",
        "thresholds = np.linspace(-1,1, 100)\n",
        "best_threshold, f1_score = lda_classifier.find_best_threshold(test_standardized_data, test_labels, thresholds)\n",
        "logging.info(f'Best threshold: {best_threshold}')\n",
        "logging.info(f'F1 Score: {f1_score}')"
      ],
      "metadata": {
        "colab": {
          "base_uri": "https://localhost:8080/"
        },
        "id": "peaxdd1fk7sT",
        "outputId": "d09ada1c-31ff-4848-d7db-38b48bf11614"
      },
      "execution_count": 10,
      "outputs": [
        {
          "output_type": "stream",
          "name": "stderr",
          "text": [
            "INFO:root:Best threshold: -0.010101010101010055\n"
          ]
        },
        {
          "output_type": "stream",
          "name": "stdout",
          "text": [
            "Best threshold: -0.010101010101010055\n"
          ]
        },
        {
          "output_type": "stream",
          "name": "stderr",
          "text": [
            "INFO:root:F1 Score: 0.8941176470588236\n"
          ]
        },
        {
          "output_type": "stream",
          "name": "stdout",
          "text": [
            "F1 Score: 0.8941176470588236\n"
          ]
        }
      ]
    },
    {
      "cell_type": "code",
      "source": [
        "predictions = lda_classifier.predict(test_normalized_data, best_threshold)"
      ],
      "metadata": {
        "id": "Vww3C9tDuplQ"
      },
      "execution_count": 11,
      "outputs": []
    },
    {
      "cell_type": "code",
      "source": [
        "logging.info(f'Accuracy: {np.mean(predictions == test_labels)}')"
      ],
      "metadata": {
        "colab": {
          "base_uri": "https://localhost:8080/"
        },
        "id": "tleFCtD9lXZN",
        "outputId": "4bbd2a79-e755-49d5-9bcf-a817869aac83"
      },
      "execution_count": 12,
      "outputs": [
        {
          "output_type": "stream",
          "name": "stderr",
          "text": [
            "INFO:root:Accuracy: 0.92\n"
          ]
        },
        {
          "output_type": "stream",
          "name": "stdout",
          "text": [
            "Accuracy: 0.92\n"
          ]
        }
      ]
    },
    {
      "cell_type": "markdown",
      "source": [
        "# Decision Tree Classifier"
      ],
      "metadata": {
        "id": "usvjP6snuZev"
      }
    },
    {
      "cell_type": "code",
      "source": [
        "DTC = DecisionTreeClassifier(max_depth = 4, feature_names = feature_names)\n",
        "DTC.fit(train_normalized_data, train_labels)"
      ],
      "metadata": {
        "id": "pu1Pv3RmuZO7"
      },
      "execution_count": 13,
      "outputs": []
    },
    {
      "cell_type": "code",
      "source": [
        "DTC.print_decision_tree()"
      ],
      "metadata": {
        "colab": {
          "base_uri": "https://localhost:8080/"
        },
        "id": "veyLfgLhwoYq",
        "outputId": "3773e7f0-2a89-457a-eb84-50447fee4a76"
      },
      "execution_count": 14,
      "outputs": [
        {
          "output_type": "stream",
          "name": "stdout",
          "text": [
            "Is TotalDebtToIncomeRatio <= -0.31588314894517683\n",
            "  Is InterestRate <= 0.7195667721725263\n",
            "    Is MonthlyIncome <= -0.44180574647731546\n",
            "      Is Loan Amount <= -0.845431634315279\n",
            "        Predict: 1\n",
            "        Predict: 0\n",
            "      Is Bankruptcy History <= 4.356476659972953\n",
            "        Predict: 1\n",
            "        Predict: 0\n",
            "    Is TotalDebtToIncomeRatio <= -0.6179522479140279\n",
            "      Is InterestRate <= 2.2486959863287312\n",
            "        Predict: 1\n",
            "        Predict: 0\n",
            "      Is NetWorth <= 0.04791036159954293\n",
            "        Predict: 0\n",
            "        Predict: 0\n",
            "  Is NetWorth <= 0.6758875085496383\n",
            "    Is InterestRate <= -1.152645000347366\n",
            "      Is TotalDebtToIncomeRatio <= 0.09670784948111506\n",
            "        Predict: 1\n",
            "        Predict: 0\n",
            "      Is TotalDebtToIncomeRatio <= 0.07935045836683757\n",
            "        Predict: 0\n",
            "        Predict: 0\n",
            "    Is Annual Income <= -0.7952422954151314\n",
            "      Is Debt to Income Ratio <= -1.1778144467860654\n",
            "        Predict: 1\n",
            "        Predict: 0\n",
            "      Is TotalDebtToIncomeRatio <= -0.14508483091720953\n",
            "        Predict: 1\n",
            "        Predict: 1\n"
          ]
        }
      ]
    },
    {
      "cell_type": "code",
      "source": [
        "DTC_accuracy, DTC_predictions = DTC.get_accuracy_and_predictions(test_normalized_data, test_labels)"
      ],
      "metadata": {
        "id": "8aeAcc8owsJn"
      },
      "execution_count": 15,
      "outputs": []
    },
    {
      "cell_type": "code",
      "source": [
        "logging.info(f'Accuracy: {DTC_accuracy}')"
      ],
      "metadata": {
        "colab": {
          "base_uri": "https://localhost:8080/"
        },
        "id": "q50jAbx7gczH",
        "outputId": "3764a3c0-1e37-46f3-b982-a00ee0626080"
      },
      "execution_count": 16,
      "outputs": [
        {
          "output_type": "stream",
          "name": "stderr",
          "text": [
            "INFO:root:Accuracy: 0.865\n"
          ]
        },
        {
          "output_type": "stream",
          "name": "stdout",
          "text": [
            "Accuracy: 0.865\n"
          ]
        }
      ]
    },
    {
      "cell_type": "code",
      "source": [
        "type_1_error_rate, type_2_error_rate = error.errore_rate_calculation(test_labels, DTC_predictions)"
      ],
      "metadata": {
        "id": "J6JJTelifCmU"
      },
      "execution_count": 17,
      "outputs": []
    },
    {
      "cell_type": "code",
      "source": [
        "logging.info(f'Type 1 Error Rate: {type_1_error_rate}')\n",
        "logging.info(f'Type 2 Error Rate: {type_2_error_rate}')"
      ],
      "metadata": {
        "colab": {
          "base_uri": "https://localhost:8080/"
        },
        "id": "0ItA-u2ogf93",
        "outputId": "31c01c8c-d91b-4f32-9643-4365a1e060fc"
      },
      "execution_count": 18,
      "outputs": [
        {
          "output_type": "stream",
          "name": "stderr",
          "text": [
            "INFO:root:Type 1 Error Rate: 0.13\n"
          ]
        },
        {
          "output_type": "stream",
          "name": "stdout",
          "text": [
            "Type 1 Error Rate: 0.13\n"
          ]
        },
        {
          "output_type": "stream",
          "name": "stderr",
          "text": [
            "INFO:root:Type 2 Error Rate: 0.14\n"
          ]
        },
        {
          "output_type": "stream",
          "name": "stdout",
          "text": [
            "Type 2 Error Rate: 0.14\n"
          ]
        }
      ]
    },
    {
      "cell_type": "markdown",
      "source": [
        "# K Nearest Neighbours"
      ],
      "metadata": {
        "id": "-_fNm9fkKRz9"
      }
    },
    {
      "cell_type": "code",
      "source": [
        "K  = [1,3,5,10]"
      ],
      "metadata": {
        "id": "YX6VvN7mVm6u"
      },
      "execution_count": 19,
      "outputs": []
    },
    {
      "cell_type": "code",
      "source": [
        "for K in K:\n",
        "  KNN = KNeighbourClassifier(k = K)\n",
        "  KNN.fit(train_normalized_data, train_labels)\n",
        "\n",
        "  KNN_accuracy, KNN_predictions = KNN.get_accuracy_and_predictions(test_normalized_data, test_labels)\n",
        "\n",
        "  KNN_type_1_error_rate, KNN_type_2_error_rate = error.errore_rate_calculation(test_labels, KNN_predictions)\n",
        "\n",
        "  logger.info(f'KNN Classifier Results for K = {K}')\n",
        "  logger.info(f'----------------------------------------')\n",
        "  logger.info(f'Accuracy            : {KNN_accuracy:.4f}')\n",
        "  logger.info(f'Type 1 Error Rate   : {KNN_type_1_error_rate:.4f}')\n",
        "  logger.info(f'Type 2 Error Rate   : {KNN_type_2_error_rate:.4f}')\n",
        "  logger.info(f'----------------------------------------')\n",
        "  logger.info('')"
      ],
      "metadata": {
        "colab": {
          "base_uri": "https://localhost:8080/"
        },
        "id": "VkXw-QXAV2QH",
        "outputId": "d5c4d0e2-4af5-4725-b910-caab292834aa"
      },
      "execution_count": 20,
      "outputs": [
        {
          "output_type": "stream",
          "name": "stderr",
          "text": [
            "INFO:root:KNN Classifier Results for K = 1\n"
          ]
        },
        {
          "output_type": "stream",
          "name": "stdout",
          "text": [
            "KNN Classifier Results for K = 1\n"
          ]
        },
        {
          "output_type": "stream",
          "name": "stderr",
          "text": [
            "INFO:root:----------------------------------------\n"
          ]
        },
        {
          "output_type": "stream",
          "name": "stdout",
          "text": [
            "----------------------------------------\n"
          ]
        },
        {
          "output_type": "stream",
          "name": "stderr",
          "text": [
            "INFO:root:Accuracy            : 0.7725\n"
          ]
        },
        {
          "output_type": "stream",
          "name": "stdout",
          "text": [
            "Accuracy            : 0.7725\n"
          ]
        },
        {
          "output_type": "stream",
          "name": "stderr",
          "text": [
            "INFO:root:Type 1 Error Rate   : 0.2500\n"
          ]
        },
        {
          "output_type": "stream",
          "name": "stdout",
          "text": [
            "Type 1 Error Rate   : 0.2500\n"
          ]
        },
        {
          "output_type": "stream",
          "name": "stderr",
          "text": [
            "INFO:root:Type 2 Error Rate   : 0.2050\n"
          ]
        },
        {
          "output_type": "stream",
          "name": "stdout",
          "text": [
            "Type 2 Error Rate   : 0.2050\n"
          ]
        },
        {
          "output_type": "stream",
          "name": "stderr",
          "text": [
            "INFO:root:----------------------------------------\n"
          ]
        },
        {
          "output_type": "stream",
          "name": "stdout",
          "text": [
            "----------------------------------------\n"
          ]
        },
        {
          "output_type": "stream",
          "name": "stderr",
          "text": [
            "INFO:root:\n"
          ]
        },
        {
          "output_type": "stream",
          "name": "stdout",
          "text": [
            "\n"
          ]
        },
        {
          "output_type": "stream",
          "name": "stderr",
          "text": [
            "INFO:root:KNN Classifier Results for K = 3\n"
          ]
        },
        {
          "output_type": "stream",
          "name": "stdout",
          "text": [
            "KNN Classifier Results for K = 3\n"
          ]
        },
        {
          "output_type": "stream",
          "name": "stderr",
          "text": [
            "INFO:root:----------------------------------------\n"
          ]
        },
        {
          "output_type": "stream",
          "name": "stdout",
          "text": [
            "----------------------------------------\n"
          ]
        },
        {
          "output_type": "stream",
          "name": "stderr",
          "text": [
            "INFO:root:Accuracy            : 0.8200\n"
          ]
        },
        {
          "output_type": "stream",
          "name": "stdout",
          "text": [
            "Accuracy            : 0.8200\n"
          ]
        },
        {
          "output_type": "stream",
          "name": "stderr",
          "text": [
            "INFO:root:Type 1 Error Rate   : 0.2450\n"
          ]
        },
        {
          "output_type": "stream",
          "name": "stdout",
          "text": [
            "Type 1 Error Rate   : 0.2450\n"
          ]
        },
        {
          "output_type": "stream",
          "name": "stderr",
          "text": [
            "INFO:root:Type 2 Error Rate   : 0.1150\n"
          ]
        },
        {
          "output_type": "stream",
          "name": "stdout",
          "text": [
            "Type 2 Error Rate   : 0.1150\n"
          ]
        },
        {
          "output_type": "stream",
          "name": "stderr",
          "text": [
            "INFO:root:----------------------------------------\n"
          ]
        },
        {
          "output_type": "stream",
          "name": "stdout",
          "text": [
            "----------------------------------------\n"
          ]
        },
        {
          "output_type": "stream",
          "name": "stderr",
          "text": [
            "INFO:root:\n"
          ]
        },
        {
          "output_type": "stream",
          "name": "stdout",
          "text": [
            "\n"
          ]
        },
        {
          "output_type": "stream",
          "name": "stderr",
          "text": [
            "INFO:root:KNN Classifier Results for K = 5\n"
          ]
        },
        {
          "output_type": "stream",
          "name": "stdout",
          "text": [
            "KNN Classifier Results for K = 5\n"
          ]
        },
        {
          "output_type": "stream",
          "name": "stderr",
          "text": [
            "INFO:root:----------------------------------------\n"
          ]
        },
        {
          "output_type": "stream",
          "name": "stdout",
          "text": [
            "----------------------------------------\n"
          ]
        },
        {
          "output_type": "stream",
          "name": "stderr",
          "text": [
            "INFO:root:Accuracy            : 0.8475\n"
          ]
        },
        {
          "output_type": "stream",
          "name": "stdout",
          "text": [
            "Accuracy            : 0.8475\n"
          ]
        },
        {
          "output_type": "stream",
          "name": "stderr",
          "text": [
            "INFO:root:Type 1 Error Rate   : 0.2200\n"
          ]
        },
        {
          "output_type": "stream",
          "name": "stdout",
          "text": [
            "Type 1 Error Rate   : 0.2200\n"
          ]
        },
        {
          "output_type": "stream",
          "name": "stderr",
          "text": [
            "INFO:root:Type 2 Error Rate   : 0.0850\n"
          ]
        },
        {
          "output_type": "stream",
          "name": "stdout",
          "text": [
            "Type 2 Error Rate   : 0.0850\n"
          ]
        },
        {
          "output_type": "stream",
          "name": "stderr",
          "text": [
            "INFO:root:----------------------------------------\n"
          ]
        },
        {
          "output_type": "stream",
          "name": "stdout",
          "text": [
            "----------------------------------------\n"
          ]
        },
        {
          "output_type": "stream",
          "name": "stderr",
          "text": [
            "INFO:root:\n"
          ]
        },
        {
          "output_type": "stream",
          "name": "stdout",
          "text": [
            "\n"
          ]
        },
        {
          "output_type": "stream",
          "name": "stderr",
          "text": [
            "INFO:root:KNN Classifier Results for K = 10\n"
          ]
        },
        {
          "output_type": "stream",
          "name": "stdout",
          "text": [
            "KNN Classifier Results for K = 10\n"
          ]
        },
        {
          "output_type": "stream",
          "name": "stderr",
          "text": [
            "INFO:root:----------------------------------------\n"
          ]
        },
        {
          "output_type": "stream",
          "name": "stdout",
          "text": [
            "----------------------------------------\n"
          ]
        },
        {
          "output_type": "stream",
          "name": "stderr",
          "text": [
            "INFO:root:Accuracy            : 0.8250\n"
          ]
        },
        {
          "output_type": "stream",
          "name": "stdout",
          "text": [
            "Accuracy            : 0.8250\n"
          ]
        },
        {
          "output_type": "stream",
          "name": "stderr",
          "text": [
            "INFO:root:Type 1 Error Rate   : 0.2050\n"
          ]
        },
        {
          "output_type": "stream",
          "name": "stdout",
          "text": [
            "Type 1 Error Rate   : 0.2050\n"
          ]
        },
        {
          "output_type": "stream",
          "name": "stderr",
          "text": [
            "INFO:root:Type 2 Error Rate   : 0.1450\n"
          ]
        },
        {
          "output_type": "stream",
          "name": "stdout",
          "text": [
            "Type 2 Error Rate   : 0.1450\n"
          ]
        },
        {
          "output_type": "stream",
          "name": "stderr",
          "text": [
            "INFO:root:----------------------------------------\n"
          ]
        },
        {
          "output_type": "stream",
          "name": "stdout",
          "text": [
            "----------------------------------------\n"
          ]
        },
        {
          "output_type": "stream",
          "name": "stderr",
          "text": [
            "INFO:root:\n"
          ]
        },
        {
          "output_type": "stream",
          "name": "stdout",
          "text": [
            "\n"
          ]
        }
      ]
    },
    {
      "cell_type": "markdown",
      "source": [
        "# Support Vector Machine"
      ],
      "metadata": {
        "id": "zG8VXMGleFui"
      }
    },
    {
      "cell_type": "markdown",
      "source": [
        "### Support Vector Machine (SVM) Objective Function\n",
        "I have implimented support vector machine classifier and I am using this\n",
        "objective function for selecting the hyperplane:\n",
        "\n",
        "- Minimize:\n",
        "\n",
        "$$\n",
        "\\frac{1}{2} ||w||^2 + C \\sum \\xi_i\n",
        "$$\n",
        "\n",
        "#### Where:\n",
        "- $$(||w||^2)$$ is the squared norm of the weight vector.\n",
        "- C is the regularization parameter.\n",
        "- $$∑ \\xi_i$$ are the slack variables allowing for misclassification.\n"
      ],
      "metadata": {
        "id": "1poCrzTlmKlD"
      }
    },
    {
      "cell_type": "code",
      "source": [
        "SVM = SupportVectorMachineClassifier()\n",
        "SVM.fit(train_normalized_data, train_labels)"
      ],
      "metadata": {
        "id": "Q9VquFGXdR6x"
      },
      "execution_count": 21,
      "outputs": []
    },
    {
      "cell_type": "code",
      "source": [
        "SVM_accuracy, SVM_predictions = SVM.get_accuracy_and_predictions(test_normalized_data, test_labels)\n",
        "logger.info(f'SVM_Accuracy: {SVM_accuracy}')"
      ],
      "metadata": {
        "colab": {
          "base_uri": "https://localhost:8080/"
        },
        "id": "CRvlXDRidkmj",
        "outputId": "a0da05c0-3f85-4923-a1b9-ac47e777f52d"
      },
      "execution_count": 22,
      "outputs": [
        {
          "output_type": "stream",
          "name": "stderr",
          "text": [
            "INFO:root:SVM_Accuracy: 0.9325\n"
          ]
        },
        {
          "output_type": "stream",
          "name": "stdout",
          "text": [
            "SVM_Accuracy: 0.9325\n"
          ]
        }
      ]
    },
    {
      "cell_type": "code",
      "source": [
        "SVM_type_1_error_rate, SVM_type_2_error_rate = error.errore_rate_calculation(test_labels, SVM_predictions)"
      ],
      "metadata": {
        "id": "w1MeiANveyAV"
      },
      "execution_count": 23,
      "outputs": []
    },
    {
      "cell_type": "code",
      "source": [
        "print(f'Type 1 error rate: {SVM_type_1_error_rate}')\n",
        "print(f'Type 2 error rate: {SVM_type_2_error_rate}')"
      ],
      "metadata": {
        "colab": {
          "base_uri": "https://localhost:8080/"
        },
        "id": "4XtUwz8Ng5dr",
        "outputId": "5a60b019-3318-4711-f6f4-20d2c7724063"
      },
      "execution_count": 24,
      "outputs": [
        {
          "output_type": "stream",
          "name": "stdout",
          "text": [
            "Type 1 error rate: 0.115\n",
            "Type 2 error rate: 0.02\n"
          ]
        }
      ]
    },
    {
      "cell_type": "markdown",
      "source": [
        "# Principle Component Analysis"
      ],
      "metadata": {
        "id": "paB-Tv7isSyv"
      }
    },
    {
      "cell_type": "markdown",
      "source": [
        "we have been asked to train the K nearest neighbour and Support vector machine classifier for all these three componenets 5, 10, 15. We itreate 3 times and print all of them one by one."
      ],
      "metadata": {
        "id": "0t-_LYvRcIh0"
      }
    },
    {
      "cell_type": "code",
      "source": [
        "components = [5, 10, 15]"
      ],
      "metadata": {
        "id": "nlWOKQQvLbZ-"
      },
      "execution_count": 25,
      "outputs": []
    },
    {
      "cell_type": "code",
      "source": [
        "for component in components:\n",
        "\n",
        "  PCA = PrincipleComponentAnalysis(component)\n",
        "  PCA.fit(train_data)\n",
        "  PCA_train_data = PCA.transform(train_data)\n",
        "  PCA_test_data = PCA.transform(test_data)\n",
        "\n",
        "  PCA_KNN = KNeighbourClassifier(k = 5)\n",
        "  PCA_KNN.fit(PCA_train_data, train_labels)\n",
        "\n",
        "  PCA_KNN_accuracy, PCA_KNN_predictions = PCA_KNN.get_accuracy_and_predictions(PCA_test_data, test_labels)\n",
        "\n",
        "  PCA_KNN_type_1_error_rate, PCA_KNN_type_2_error_rate = error.errore_rate_calculation(test_labels, PCA_KNN_predictions)\n",
        "\n",
        "  logger.info(f'KNN Classifier Results for {component} Components')\n",
        "  logger.info(f'----------------------------------------')\n",
        "  logger.info(f'Accuracy            : {PCA_KNN_accuracy:.4f}')\n",
        "  logger.info(f'Type 1 Error Rate   : {PCA_KNN_type_1_error_rate:.4f}')\n",
        "  logger.info(f'Type 2 Error Rate   : {PCA_KNN_type_2_error_rate:.4f}')\n",
        "  logger.info(f'----------------------------------------')\n",
        "  logger.info('')\n",
        "\n",
        "  PCA_SVM = SupportVectorMachineClassifier()\n",
        "  PCA_SVM.fit(PCA_train_data, train_labels)\n",
        "\n",
        "  PCA_SVM_accuracy, PCA_SVM_predictions = PCA_SVM.get_accuracy_and_predictions(PCA_test_data, test_labels)\n",
        "\n",
        "  PCA_SVM_type_1_error_rate, PCA_SVM_type_2_error_rate = error.errore_rate_calculation(test_labels, PCA_SVM_predictions)\n",
        "\n",
        "  logger.info(f'SVM Classifier Results for {component} Components')\n",
        "  logger.info(f'----------------------------------------')\n",
        "  logger.info(f'Accuracy            : {PCA_SVM_accuracy:.4f}')\n",
        "  logger.info(f'Type 1 Error Rate   : {PCA_SVM_type_1_error_rate:.4f}')\n",
        "  logger.info(f'Type 2 Error Rate   : {PCA_SVM_type_2_error_rate:.4f}')\n",
        "  logger.info(f'----------------------------------------')\n",
        "  logger.info('')\n",
        "  logger.info('=================================================================================')"
      ],
      "metadata": {
        "colab": {
          "base_uri": "https://localhost:8080/"
        },
        "id": "WhWsSliiLhkn",
        "outputId": "27a29b0f-74c7-4db3-ab8a-053f90b466f7"
      },
      "execution_count": 26,
      "outputs": [
        {
          "output_type": "stream",
          "name": "stderr",
          "text": [
            "INFO:root:KNN Classifier Results for 5 Components\n"
          ]
        },
        {
          "output_type": "stream",
          "name": "stdout",
          "text": [
            "KNN Classifier Results for 5 Components\n"
          ]
        },
        {
          "output_type": "stream",
          "name": "stderr",
          "text": [
            "INFO:root:----------------------------------------\n"
          ]
        },
        {
          "output_type": "stream",
          "name": "stdout",
          "text": [
            "----------------------------------------\n"
          ]
        },
        {
          "output_type": "stream",
          "name": "stderr",
          "text": [
            "INFO:root:Accuracy            : 0.8600\n"
          ]
        },
        {
          "output_type": "stream",
          "name": "stdout",
          "text": [
            "Accuracy            : 0.8600\n"
          ]
        },
        {
          "output_type": "stream",
          "name": "stderr",
          "text": [
            "INFO:root:Type 1 Error Rate   : 0.1800\n"
          ]
        },
        {
          "output_type": "stream",
          "name": "stdout",
          "text": [
            "Type 1 Error Rate   : 0.1800\n"
          ]
        },
        {
          "output_type": "stream",
          "name": "stderr",
          "text": [
            "INFO:root:Type 2 Error Rate   : 0.1000\n"
          ]
        },
        {
          "output_type": "stream",
          "name": "stdout",
          "text": [
            "Type 2 Error Rate   : 0.1000\n"
          ]
        },
        {
          "output_type": "stream",
          "name": "stderr",
          "text": [
            "INFO:root:----------------------------------------\n"
          ]
        },
        {
          "output_type": "stream",
          "name": "stdout",
          "text": [
            "----------------------------------------\n"
          ]
        },
        {
          "output_type": "stream",
          "name": "stderr",
          "text": [
            "INFO:root:\n"
          ]
        },
        {
          "output_type": "stream",
          "name": "stdout",
          "text": [
            "\n"
          ]
        },
        {
          "output_type": "stream",
          "name": "stderr",
          "text": [
            "INFO:root:SVM Classifier Results for 5 Components\n"
          ]
        },
        {
          "output_type": "stream",
          "name": "stdout",
          "text": [
            "SVM Classifier Results for 5 Components\n"
          ]
        },
        {
          "output_type": "stream",
          "name": "stderr",
          "text": [
            "INFO:root:----------------------------------------\n"
          ]
        },
        {
          "output_type": "stream",
          "name": "stdout",
          "text": [
            "----------------------------------------\n"
          ]
        },
        {
          "output_type": "stream",
          "name": "stderr",
          "text": [
            "INFO:root:Accuracy            : 0.8825\n"
          ]
        },
        {
          "output_type": "stream",
          "name": "stdout",
          "text": [
            "Accuracy            : 0.8825\n"
          ]
        },
        {
          "output_type": "stream",
          "name": "stderr",
          "text": [
            "INFO:root:Type 1 Error Rate   : 0.1800\n"
          ]
        },
        {
          "output_type": "stream",
          "name": "stdout",
          "text": [
            "Type 1 Error Rate   : 0.1800\n"
          ]
        },
        {
          "output_type": "stream",
          "name": "stderr",
          "text": [
            "INFO:root:Type 2 Error Rate   : 0.0550\n"
          ]
        },
        {
          "output_type": "stream",
          "name": "stdout",
          "text": [
            "Type 2 Error Rate   : 0.0550\n"
          ]
        },
        {
          "output_type": "stream",
          "name": "stderr",
          "text": [
            "INFO:root:----------------------------------------\n"
          ]
        },
        {
          "output_type": "stream",
          "name": "stdout",
          "text": [
            "----------------------------------------\n"
          ]
        },
        {
          "output_type": "stream",
          "name": "stderr",
          "text": [
            "INFO:root:\n"
          ]
        },
        {
          "output_type": "stream",
          "name": "stdout",
          "text": [
            "\n"
          ]
        },
        {
          "output_type": "stream",
          "name": "stderr",
          "text": [
            "INFO:root:=================================================================================\n"
          ]
        },
        {
          "output_type": "stream",
          "name": "stdout",
          "text": [
            "=================================================================================\n"
          ]
        },
        {
          "output_type": "stream",
          "name": "stderr",
          "text": [
            "INFO:root:KNN Classifier Results for 10 Components\n"
          ]
        },
        {
          "output_type": "stream",
          "name": "stdout",
          "text": [
            "KNN Classifier Results for 10 Components\n"
          ]
        },
        {
          "output_type": "stream",
          "name": "stderr",
          "text": [
            "INFO:root:----------------------------------------\n"
          ]
        },
        {
          "output_type": "stream",
          "name": "stdout",
          "text": [
            "----------------------------------------\n"
          ]
        },
        {
          "output_type": "stream",
          "name": "stderr",
          "text": [
            "INFO:root:Accuracy            : 0.8425\n"
          ]
        },
        {
          "output_type": "stream",
          "name": "stdout",
          "text": [
            "Accuracy            : 0.8425\n"
          ]
        },
        {
          "output_type": "stream",
          "name": "stderr",
          "text": [
            "INFO:root:Type 1 Error Rate   : 0.2000\n"
          ]
        },
        {
          "output_type": "stream",
          "name": "stdout",
          "text": [
            "Type 1 Error Rate   : 0.2000\n"
          ]
        },
        {
          "output_type": "stream",
          "name": "stderr",
          "text": [
            "INFO:root:Type 2 Error Rate   : 0.1150\n"
          ]
        },
        {
          "output_type": "stream",
          "name": "stdout",
          "text": [
            "Type 2 Error Rate   : 0.1150\n"
          ]
        },
        {
          "output_type": "stream",
          "name": "stderr",
          "text": [
            "INFO:root:----------------------------------------\n"
          ]
        },
        {
          "output_type": "stream",
          "name": "stdout",
          "text": [
            "----------------------------------------\n"
          ]
        },
        {
          "output_type": "stream",
          "name": "stderr",
          "text": [
            "INFO:root:\n"
          ]
        },
        {
          "output_type": "stream",
          "name": "stdout",
          "text": [
            "\n"
          ]
        },
        {
          "output_type": "stream",
          "name": "stderr",
          "text": [
            "INFO:root:SVM Classifier Results for 10 Components\n"
          ]
        },
        {
          "output_type": "stream",
          "name": "stdout",
          "text": [
            "SVM Classifier Results for 10 Components\n"
          ]
        },
        {
          "output_type": "stream",
          "name": "stderr",
          "text": [
            "INFO:root:----------------------------------------\n"
          ]
        },
        {
          "output_type": "stream",
          "name": "stdout",
          "text": [
            "----------------------------------------\n"
          ]
        },
        {
          "output_type": "stream",
          "name": "stderr",
          "text": [
            "INFO:root:Accuracy            : 0.9025\n"
          ]
        },
        {
          "output_type": "stream",
          "name": "stdout",
          "text": [
            "Accuracy            : 0.9025\n"
          ]
        },
        {
          "output_type": "stream",
          "name": "stderr",
          "text": [
            "INFO:root:Type 1 Error Rate   : 0.1650\n"
          ]
        },
        {
          "output_type": "stream",
          "name": "stdout",
          "text": [
            "Type 1 Error Rate   : 0.1650\n"
          ]
        },
        {
          "output_type": "stream",
          "name": "stderr",
          "text": [
            "INFO:root:Type 2 Error Rate   : 0.0300\n"
          ]
        },
        {
          "output_type": "stream",
          "name": "stdout",
          "text": [
            "Type 2 Error Rate   : 0.0300\n"
          ]
        },
        {
          "output_type": "stream",
          "name": "stderr",
          "text": [
            "INFO:root:----------------------------------------\n"
          ]
        },
        {
          "output_type": "stream",
          "name": "stdout",
          "text": [
            "----------------------------------------\n"
          ]
        },
        {
          "output_type": "stream",
          "name": "stderr",
          "text": [
            "INFO:root:\n"
          ]
        },
        {
          "output_type": "stream",
          "name": "stdout",
          "text": [
            "\n"
          ]
        },
        {
          "output_type": "stream",
          "name": "stderr",
          "text": [
            "INFO:root:=================================================================================\n"
          ]
        },
        {
          "output_type": "stream",
          "name": "stdout",
          "text": [
            "=================================================================================\n"
          ]
        },
        {
          "output_type": "stream",
          "name": "stderr",
          "text": [
            "INFO:root:KNN Classifier Results for 15 Components\n"
          ]
        },
        {
          "output_type": "stream",
          "name": "stdout",
          "text": [
            "KNN Classifier Results for 15 Components\n"
          ]
        },
        {
          "output_type": "stream",
          "name": "stderr",
          "text": [
            "INFO:root:----------------------------------------\n"
          ]
        },
        {
          "output_type": "stream",
          "name": "stdout",
          "text": [
            "----------------------------------------\n"
          ]
        },
        {
          "output_type": "stream",
          "name": "stderr",
          "text": [
            "INFO:root:Accuracy            : 0.8100\n"
          ]
        },
        {
          "output_type": "stream",
          "name": "stdout",
          "text": [
            "Accuracy            : 0.8100\n"
          ]
        },
        {
          "output_type": "stream",
          "name": "stderr",
          "text": [
            "INFO:root:Type 1 Error Rate   : 0.2700\n"
          ]
        },
        {
          "output_type": "stream",
          "name": "stdout",
          "text": [
            "Type 1 Error Rate   : 0.2700\n"
          ]
        },
        {
          "output_type": "stream",
          "name": "stderr",
          "text": [
            "INFO:root:Type 2 Error Rate   : 0.1100\n"
          ]
        },
        {
          "output_type": "stream",
          "name": "stdout",
          "text": [
            "Type 2 Error Rate   : 0.1100\n"
          ]
        },
        {
          "output_type": "stream",
          "name": "stderr",
          "text": [
            "INFO:root:----------------------------------------\n"
          ]
        },
        {
          "output_type": "stream",
          "name": "stdout",
          "text": [
            "----------------------------------------\n"
          ]
        },
        {
          "output_type": "stream",
          "name": "stderr",
          "text": [
            "INFO:root:\n"
          ]
        },
        {
          "output_type": "stream",
          "name": "stdout",
          "text": [
            "\n"
          ]
        },
        {
          "output_type": "stream",
          "name": "stderr",
          "text": [
            "INFO:root:SVM Classifier Results for 15 Components\n"
          ]
        },
        {
          "output_type": "stream",
          "name": "stdout",
          "text": [
            "SVM Classifier Results for 15 Components\n"
          ]
        },
        {
          "output_type": "stream",
          "name": "stderr",
          "text": [
            "INFO:root:----------------------------------------\n"
          ]
        },
        {
          "output_type": "stream",
          "name": "stdout",
          "text": [
            "----------------------------------------\n"
          ]
        },
        {
          "output_type": "stream",
          "name": "stderr",
          "text": [
            "INFO:root:Accuracy            : 0.9025\n"
          ]
        },
        {
          "output_type": "stream",
          "name": "stdout",
          "text": [
            "Accuracy            : 0.9025\n"
          ]
        },
        {
          "output_type": "stream",
          "name": "stderr",
          "text": [
            "INFO:root:Type 1 Error Rate   : 0.1700\n"
          ]
        },
        {
          "output_type": "stream",
          "name": "stdout",
          "text": [
            "Type 1 Error Rate   : 0.1700\n"
          ]
        },
        {
          "output_type": "stream",
          "name": "stderr",
          "text": [
            "INFO:root:Type 2 Error Rate   : 0.0250\n"
          ]
        },
        {
          "output_type": "stream",
          "name": "stdout",
          "text": [
            "Type 2 Error Rate   : 0.0250\n"
          ]
        },
        {
          "output_type": "stream",
          "name": "stderr",
          "text": [
            "INFO:root:----------------------------------------\n"
          ]
        },
        {
          "output_type": "stream",
          "name": "stdout",
          "text": [
            "----------------------------------------\n"
          ]
        },
        {
          "output_type": "stream",
          "name": "stderr",
          "text": [
            "INFO:root:\n"
          ]
        },
        {
          "output_type": "stream",
          "name": "stdout",
          "text": [
            "\n"
          ]
        },
        {
          "output_type": "stream",
          "name": "stderr",
          "text": [
            "INFO:root:=================================================================================\n"
          ]
        },
        {
          "output_type": "stream",
          "name": "stdout",
          "text": [
            "=================================================================================\n"
          ]
        }
      ]
    },
    {
      "cell_type": "code",
      "source": [
        "!tar -cvf /content/Submission.tar -C /content Submission"
      ],
      "metadata": {
        "colab": {
          "base_uri": "https://localhost:8080/"
        },
        "id": "HkEkc5vpmRTL",
        "outputId": "62f9bc29-4dee-4f5b-9a0f-b59dff15b6e9"
      },
      "execution_count": 52,
      "outputs": [
        {
          "output_type": "stream",
          "name": "stdout",
          "text": [
            "Submission/\n",
            "Submission/.ipynb_checkpoints/\n",
            "Submission/README.txt\n",
            "Submission/Analysis_file.ipynb\n",
            "Submission/data/\n",
            "Submission/data/TrainingData.csv\n",
            "Submission/data/TestingData.csv\n",
            "Submission/src/\n",
            "Submission/src/DecisionTreeClassifier.py\n",
            "Submission/src/BaseClassifier.py\n",
            "Submission/src/PrincipleComponentAnalysis.py\n",
            "Submission/src/DataLoader.py\n",
            "Submission/src/LinearDiscriminantAnalysisClassifier.py\n",
            "Submission/src/ErrorRateCalculator.py\n",
            "Submission/src/common.py\n",
            "Submission/src/DataPreprocessing.py\n",
            "Submission/src/KNeighbourClassifier.py\n",
            "Submission/src/SupportVectorMachineClassifier.py\n",
            "Submission/src/TestDataLoader.py\n"
          ]
        }
      ]
    }
  ]
}